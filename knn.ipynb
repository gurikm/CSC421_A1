{
 "cells": [
  {
   "cell_type": "code",
   "execution_count": 64,
   "id": "8c0eae2f-2733-4947-a903-5428e84d2633",
   "metadata": {},
   "outputs": [],
   "source": [
    "from keras.datasets import cifar10\n",
    "import numpy as np\n",
    "import matplotlib.pyplot as plt"
   ]
  },
  {
   "cell_type": "code",
   "execution_count": 65,
   "id": "2779128e-d569-4aab-9cb5-7d722d45dd26",
   "metadata": {
    "tags": []
   },
   "outputs": [],
   "source": [
    "def euclidean_distance(image1,image2):\n",
    "    distance = np.sqrt(np.sum(np.square(image1-image2)))\n",
    "    return distance\n"
   ]
  },
  {
   "cell_type": "code",
   "execution_count": 66,
   "id": "cd8a793e-394f-428d-b818-abde9c3fb04e",
   "metadata": {},
   "outputs": [],
   "source": [
    "def K_nearest_neighbour(trainX,trainY,test,k):\n",
    "    distance_to = []\n",
    "    for position,picture in enumerate(trainX):\n",
    "        distance_to.append([position,euclidean_distance(picture,test)])\n",
    "    nearest = np.array([0]*10)\n",
    "    \n",
    "    for i in range(k):\n",
    "        close = min(distance_to,key = lambda input: input[1])\n",
    "        nearest[trainY[close[0]]] += 1\n",
    "        final = np.argmax(nearest)\n",
    "    return final\n",
    "    "
   ]
  },
  {
   "cell_type": "code",
   "execution_count": 67,
   "id": "217269ed-9fe4-4757-b2bb-89d18db26631",
   "metadata": {},
   "outputs": [
    {
     "name": "stdout",
     "output_type": "stream",
     "text": [
      "value of k at 3  is  6.0 %\n",
      "\n",
      "value of k at 6  is  12.0 %\n",
      "\n",
      "value of k at 9  is  16.0 %\n",
      "\n",
      "value of k at 12  is  12.0 %\n",
      "\n",
      "The most effiecent value for k is  9 with a accuracy of  14.000000000000002 %\n"
     ]
    }
   ],
   "source": [
    "def main():\n",
    "    \n",
    "    (trainX, trainY), (testX, testY) = cifar10.load_data()\n",
    "    trainX = np.reshape(trainX, (trainX.shape[0], -1))\n",
    "    testX = np.reshape(testX, (testX.shape[0], -1))\n",
    "\n",
    "    ks = [3,6,9,12]\n",
    "    Ktest = [0,0,0,0]\n",
    "    for i in range(4):\n",
    "        splitX = np.array_split(trainX[:50],5)\n",
    "        splitY = np.array_split(trainY[:50],5)\n",
    "        results = [[0,0] for i in range(5)]\n",
    "        for p in range(5):\n",
    "            trainX_part = splitX[:p] + splitX[(p+1):]\n",
    "            trainY_part = splitY[:p] + splitY[(p+1):]\n",
    "            trainX_part = np.vstack(trainX_part)\n",
    "            trainY_part = np.vstack(trainY_part).flatten()\n",
    "            for x,y in zip(splitX[p],splitY[i]):\n",
    "                if K_nearest_neighbour(trainX_part,trainY_part,x,ks[i]) == y:\n",
    "                    results[p][0] +=1\n",
    "                else:\n",
    "                    results[p][1] +=1\n",
    "        total_correct = [i[0] for i in results]\n",
    "        total_incorrect = [i[1] for i in results]\n",
    "        Ktest[i] = sum(total_correct)/(sum(total_correct)+sum(total_incorrect))\n",
    "        print(\"value of k at\", ks[i],\" is \",round(Ktest[i]*100,1),\"%\\n\")\n",
    "\n",
    "    Kvalue = ks[Ktest.index(max(Ktest))]\n",
    "    \n",
    "    correct = 0\n",
    "    incorrect = 0\n",
    "    \n",
    "    for x,y in zip(testX[:50],testY[:50]):\n",
    "        guess = K_nearest_neighbour(trainX[:50],trainY[:50],x,Kvalue)\n",
    "        \n",
    "        if guess == y[0]:\n",
    "           \n",
    "            correct += 1\n",
    "        else:\n",
    "            incorrect += 1\n",
    "    print(\"The most effiecent value for k is \",Kvalue,\"with a accuracy of \",correct/(correct+incorrect)*100,\"%\")\n",
    "\n",
    "    return\n",
    "    \n",
    "    \n",
    "if __name__ == \"__main__\":\n",
    "    main()"
   ]
  },
  {
   "cell_type": "code",
   "execution_count": null,
   "id": "5a84b8eb-43a9-4e27-b970-6de966ef6172",
   "metadata": {},
   "outputs": [],
   "source": []
  },
  {
   "cell_type": "code",
   "execution_count": null,
   "id": "790e2ef8-5b78-49b9-b17c-f8b4304f9d7b",
   "metadata": {},
   "outputs": [],
   "source": []
  },
  {
   "cell_type": "code",
   "execution_count": null,
   "id": "411c352c-00fe-4493-be38-73a20ea5eb91",
   "metadata": {},
   "outputs": [],
   "source": []
  }
 ],
 "metadata": {
  "kernelspec": {
   "display_name": "Python 3 (ipykernel)",
   "language": "python",
   "name": "python3"
  },
  "language_info": {
   "codemirror_mode": {
    "name": "ipython",
    "version": 3
   },
   "file_extension": ".py",
   "mimetype": "text/x-python",
   "name": "python",
   "nbconvert_exporter": "python",
   "pygments_lexer": "ipython3",
   "version": "3.10.2"
  }
 },
 "nbformat": 4,
 "nbformat_minor": 5
}
