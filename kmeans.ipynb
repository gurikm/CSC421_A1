{
 "cells": [
  {
   "cell_type": "code",
   "execution_count": 26,
   "id": "46e6635e-1aa2-42f8-840e-65fef4f57dab",
   "metadata": {},
   "outputs": [],
   "source": [
    "from keras.datasets import cifar10 \n",
    "from random import sample \n",
    "import random\n",
    "import numpy as np\n",
    "import matplotlib.pyplot as plt"
   ]
  },
  {
   "cell_type": "code",
   "execution_count": 27,
   "id": "2822d007-c48a-4901-9240-ac7e40b343ac",
   "metadata": {},
   "outputs": [],
   "source": [
    "class Kmeans_Pointer:\n",
    "    def __init__(self,x_point,y_point):\n",
    "        self.x_point = x_point\n",
    "        self.y_point = y_point\n",
    "        self.size = x_point.size"
   ]
  },
  {
   "cell_type": "code",
   "execution_count": 28,
   "id": "c2e8a195-41bd-4480-ba7a-e7e588804b07",
   "metadata": {},
   "outputs": [],
   "source": [
    "def euclidean_distance(image1,image2):\n",
    "    distance = np.sqrt(np.sum(np.square(image1-image2)))\n",
    "    return distance"
   ]
  },
  {
   "cell_type": "code",
   "execution_count": 29,
   "id": "04e841a7-8ad6-406a-8535-574791c92cee",
   "metadata": {},
   "outputs": [],
   "source": [
    "def clustering(points,center,k):\n",
    "    clusters = [[] for i in range(k)]\n",
    "    for point in points:\n",
    "        distances = np.array([None]*k)\n",
    "      \n",
    "        for i in range(k):\n",
    "            distances[i] = euclidean_distance(center[i].x_point,point.x_point)\n",
    "            \n",
    "        clus = np.argmin(distances)\n",
    "        clusters[clus].append(point)\n",
    "        \n",
    "    centerA = [[] for i in range(k)]\n",
    "    for index,cluster in enumerate(clusters):\n",
    "        mean = []\n",
    "        for i in range(3072):\n",
    "            listX = [point.x_point[i] for point in cluster]\n",
    "            mean.append(sum(listX)/len(listX))\n",
    "        centerA[index] = Kmeans_Pointer(np.array(mean),0)\n",
    "    \n",
    "    total = True\n",
    "    for old,new in zip(center,centerA):\n",
    "        if not np.array_equal(old.x_point,new.x_point):\n",
    "            total = False\n",
    "            break\n",
    "    if total == True:\n",
    "        return centerA, clusters\n",
    "    \n",
    "    return clustering(points,centerA,k)"
   ]
  },
  {
   "cell_type": "code",
   "execution_count": 30,
   "id": "a44f618c-ebdd-48dd-9686-cf59c4a28ef9",
   "metadata": {},
   "outputs": [],
   "source": [
    "def k_mean(trainX,trainY,testX,testY,k):\n",
    "    pixel_pointer = []\n",
    "    predicted = []\n",
    "    correct = 0\n",
    "    incorrect = 0\n",
    "    for x_pointer,y_pointer in zip(trainX,trainY):\n",
    "        pixel_pointer.append(Kmeans_Pointer(x_pointer,y_pointer))\n",
    "    center = pixel_pointer\n",
    "    last_center,clusters = clustering(pixel_pointer,center,k)\n",
    "   \n",
    "    for x, the_cluster in enumerate(clusters):\n",
    "        y_list = [point.y_point for point in the_cluster]\n",
    "        y_mode = (max(set(y_list), key = y_list.count))\n",
    "        last_center[x].y_point = y_mode\n",
    "        \n",
    "    for x in testX:\n",
    "        distances = []\n",
    "        for center in last_center:\n",
    "            distances.append(euclidean_distance(x,center.x_point))\n",
    "        tracker = np.argmin(np.array(distances))\n",
    "        predicted.append(last_center[tracker].y_point)\n",
    "        \n",
    "    for m,n in zip(predicted,testY):\n",
    "        if m == n[0]:\n",
    "            correct += 1\n",
    "        else:\n",
    "            incorrect += 1\n",
    "    return correct/(correct+incorrect)"
   ]
  },
  {
   "cell_type": "code",
   "execution_count": 31,
   "id": "4c3bc70c-a31d-4208-ae91-7f4ab42cbaea",
   "metadata": {},
   "outputs": [
    {
     "name": "stdout",
     "output_type": "stream",
     "text": [
      "k 3 has a accuracy of  30.0 %\n",
      "\n",
      "k 6 has a accuracy of  20.0 %\n",
      "\n",
      "k 9 has a accuracy of  30.0 %\n",
      "\n"
     ]
    },
    {
     "ename": "ZeroDivisionError",
     "evalue": "division by zero",
     "output_type": "error",
     "traceback": [
      "\u001b[1;31m---------------------------------------------------------------------------\u001b[0m",
      "\u001b[1;31mZeroDivisionError\u001b[0m                         Traceback (most recent call last)",
      "Input \u001b[1;32mIn [31]\u001b[0m, in \u001b[0;36m<module>\u001b[1;34m\u001b[0m\n\u001b[0;32m     30\u001b[0m     \u001b[38;5;28;01mreturn\u001b[39;00m\n\u001b[0;32m     32\u001b[0m \u001b[38;5;28;01mif\u001b[39;00m \u001b[38;5;18m__name__\u001b[39m \u001b[38;5;241m==\u001b[39m \u001b[38;5;124m\"\u001b[39m\u001b[38;5;124m__main__\u001b[39m\u001b[38;5;124m\"\u001b[39m:\n\u001b[1;32m---> 33\u001b[0m     \u001b[43mmain\u001b[49m\u001b[43m(\u001b[49m\u001b[43m)\u001b[49m\n",
      "Input \u001b[1;32mIn [31]\u001b[0m, in \u001b[0;36mmain\u001b[1;34m()\u001b[0m\n\u001b[0;32m     18\u001b[0m     checkX \u001b[38;5;241m=\u001b[39m splitX[i]\n\u001b[0;32m     19\u001b[0m     checkY \u001b[38;5;241m=\u001b[39m splitY[i]\n\u001b[1;32m---> 20\u001b[0m     results \u001b[38;5;241m=\u001b[39m \u001b[43mk_mean\u001b[49m\u001b[43m(\u001b[49m\u001b[43mtrainX_part\u001b[49m\u001b[43m,\u001b[49m\u001b[43mtrainY_part\u001b[49m\u001b[43m,\u001b[49m\u001b[43mcheckX\u001b[49m\u001b[43m,\u001b[49m\u001b[43mcheckY\u001b[49m\u001b[43m,\u001b[49m\u001b[43mks\u001b[49m\u001b[43m[\u001b[49m\u001b[43mi\u001b[49m\u001b[43m]\u001b[49m\u001b[43m)\u001b[49m\n\u001b[0;32m     21\u001b[0m final_results\u001b[38;5;241m.\u001b[39mappend(results)\n\u001b[0;32m     23\u001b[0m Ktest[i] \u001b[38;5;241m=\u001b[39m \u001b[38;5;28msum\u001b[39m(final_results)\u001b[38;5;241m/\u001b[39m\u001b[38;5;28mlen\u001b[39m(final_results)\n",
      "Input \u001b[1;32mIn [30]\u001b[0m, in \u001b[0;36mk_mean\u001b[1;34m(trainX, trainY, testX, testY, k)\u001b[0m\n\u001b[0;32m      7\u001b[0m     pixel_pointer\u001b[38;5;241m.\u001b[39mappend(Kmeans_Pointer(x_pointer,y_pointer))\n\u001b[0;32m      8\u001b[0m center \u001b[38;5;241m=\u001b[39m pixel_pointer\n\u001b[1;32m----> 9\u001b[0m last_center,clusters \u001b[38;5;241m=\u001b[39m \u001b[43mclustering\u001b[49m\u001b[43m(\u001b[49m\u001b[43mpixel_pointer\u001b[49m\u001b[43m,\u001b[49m\u001b[43mcenter\u001b[49m\u001b[43m,\u001b[49m\u001b[43mk\u001b[49m\u001b[43m)\u001b[49m\n\u001b[0;32m     11\u001b[0m \u001b[38;5;28;01mfor\u001b[39;00m x, the_cluster \u001b[38;5;129;01min\u001b[39;00m \u001b[38;5;28menumerate\u001b[39m(clusters):\n\u001b[0;32m     12\u001b[0m     y_list \u001b[38;5;241m=\u001b[39m [point\u001b[38;5;241m.\u001b[39my_point \u001b[38;5;28;01mfor\u001b[39;00m point \u001b[38;5;129;01min\u001b[39;00m the_cluster]\n",
      "Input \u001b[1;32mIn [29]\u001b[0m, in \u001b[0;36mclustering\u001b[1;34m(points, center, k)\u001b[0m\n\u001b[0;32m     25\u001b[0m \u001b[38;5;28;01mif\u001b[39;00m total \u001b[38;5;241m==\u001b[39m \u001b[38;5;28;01mTrue\u001b[39;00m:\n\u001b[0;32m     26\u001b[0m     \u001b[38;5;28;01mreturn\u001b[39;00m centerA, clusters\n\u001b[1;32m---> 28\u001b[0m \u001b[38;5;28;01mreturn\u001b[39;00m \u001b[43mclustering\u001b[49m\u001b[43m(\u001b[49m\u001b[43mpoints\u001b[49m\u001b[43m,\u001b[49m\u001b[43mcenterA\u001b[49m\u001b[43m,\u001b[49m\u001b[43mk\u001b[49m\u001b[43m)\u001b[49m\n",
      "Input \u001b[1;32mIn [29]\u001b[0m, in \u001b[0;36mclustering\u001b[1;34m(points, center, k)\u001b[0m\n\u001b[0;32m     15\u001b[0m     \u001b[38;5;28;01mfor\u001b[39;00m i \u001b[38;5;129;01min\u001b[39;00m \u001b[38;5;28mrange\u001b[39m(\u001b[38;5;241m3072\u001b[39m):\n\u001b[0;32m     16\u001b[0m         listX \u001b[38;5;241m=\u001b[39m [point\u001b[38;5;241m.\u001b[39mx_point[i] \u001b[38;5;28;01mfor\u001b[39;00m point \u001b[38;5;129;01min\u001b[39;00m cluster]\n\u001b[1;32m---> 17\u001b[0m         mean\u001b[38;5;241m.\u001b[39mappend(\u001b[38;5;28;43msum\u001b[39;49m\u001b[43m(\u001b[49m\u001b[43mlistX\u001b[49m\u001b[43m)\u001b[49m\u001b[38;5;241;43m/\u001b[39;49m\u001b[38;5;28;43mlen\u001b[39;49m\u001b[43m(\u001b[49m\u001b[43mlistX\u001b[49m\u001b[43m)\u001b[49m)\n\u001b[0;32m     18\u001b[0m     centerA[index] \u001b[38;5;241m=\u001b[39m Kmeans_Pointer(np\u001b[38;5;241m.\u001b[39marray(mean),\u001b[38;5;241m0\u001b[39m)\n\u001b[0;32m     20\u001b[0m total \u001b[38;5;241m=\u001b[39m \u001b[38;5;28;01mTrue\u001b[39;00m\n",
      "\u001b[1;31mZeroDivisionError\u001b[0m: division by zero"
     ]
    }
   ],
   "source": [
    "def main():\n",
    "    (trainX,trainY),(testX,testY) = cifar10.load_data()\n",
    "    trainX = np.reshape(trainX, (trainX.shape[0], -1))\n",
    "    testX = np.reshape(testX, (testX.shape[0], -1))\n",
    "    \n",
    "    ks = [3,6,9,12]\n",
    "    Ktest = [0,0,0,0]\n",
    "    for i in range(4):\n",
    "        splitX = np.array_split(trainX[:50],5)\n",
    "        splitY = np.array_split(trainY[:50],5)\n",
    "        results = [[0,0] for i in range(5)]\n",
    "        final_results = []\n",
    "        for p in range(5):\n",
    "            trainX_part = splitX[:p] + splitX[(p+1):]\n",
    "            trainY_part = splitY[:p] + splitY[(p+1):]\n",
    "            trainX_part = np.vstack(trainX_part)\n",
    "            trainY_part = np.vstack(trainY_part).flatten()\n",
    "            checkX = splitX[i]\n",
    "            checkY = splitY[i]\n",
    "            results = k_mean(trainX_part,trainY_part,checkX,checkY,ks[i])\n",
    "        final_results.append(results)\n",
    "           \n",
    "        Ktest[i] = sum(final_results)/len(final_results)\n",
    "        print(\"k\",ks[i],\"has a accuracy of \",Ktest[i]*100,\"%\\n\")\n",
    "        Kval = ks[Ktest.index(max(Ktest))]\n",
    "        accuracy = 100*k_mean(trainX[:50],np.vstack(trainY).flatten(),testX[:50],testY,ks[Ktest.index(max(Ktest))])\n",
    "\n",
    "    print(\"Best value of k was \",Kval,\" with a accuracy of \",accuracy,\"%\")\n",
    "    \n",
    "    return\n",
    "    \n",
    "if __name__ == \"__main__\":\n",
    "    main()\n",
    "\n"
   ]
  },
  {
   "cell_type": "code",
   "execution_count": null,
   "id": "7505efaf-8bfc-4ac3-b4a1-bf93563dad41",
   "metadata": {},
   "outputs": [],
   "source": []
  },
  {
   "cell_type": "code",
   "execution_count": null,
   "id": "b07e5fb4-4de0-4d78-8c77-3a658770fa9b",
   "metadata": {},
   "outputs": [],
   "source": []
  },
  {
   "cell_type": "code",
   "execution_count": null,
   "id": "d95af656-18f9-4c53-8645-ff48cd72f74e",
   "metadata": {},
   "outputs": [],
   "source": []
  },
  {
   "cell_type": "code",
   "execution_count": null,
   "id": "064291d9-d5a2-4a83-b215-917749af19bb",
   "metadata": {},
   "outputs": [],
   "source": []
  }
 ],
 "metadata": {
  "kernelspec": {
   "display_name": "Python 3 (ipykernel)",
   "language": "python",
   "name": "python3"
  },
  "language_info": {
   "codemirror_mode": {
    "name": "ipython",
    "version": 3
   },
   "file_extension": ".py",
   "mimetype": "text/x-python",
   "name": "python",
   "nbconvert_exporter": "python",
   "pygments_lexer": "ipython3",
   "version": "3.10.2"
  }
 },
 "nbformat": 4,
 "nbformat_minor": 5
}
